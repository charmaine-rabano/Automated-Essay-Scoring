{
 "cells": [
  {
   "cell_type": "markdown",
   "id": "f709b580",
   "metadata": {},
   "source": [
    "# CS160P Final Project: Automated Essay Scoring\n",
    "\n",
    "Submitted by Charmaine Eunice Rabano"
   ]
  },
  {
   "cell_type": "markdown",
   "id": "414be39b",
   "metadata": {},
   "source": [
    "### Project Information\n",
    "\n",
    "#### Essay Set\n",
    "\n",
    "Not all essay sets will be used to avoid confusions with the differences in essay type and scoring range. Only essay sets #5 and #6 will be used because these sets are almost similar and both have scoring range of 0-4. They also have the highest training set size.\n",
    "\n",
    "\n",
    "#### Features\n",
    "1. Sentence count\n",
    "2. Word count\n",
    "3. Character count\n",
    "4. Lemma count\n",
    "5. Noun count\n",
    "6. Verb count\n",
    "7. Sentiment neutral score\n",
    "\n",
    "\n",
    "#### Models\n",
    "\n",
    "Classification and regression using ensemble learning techniques\n",
    "1. Random Forest Classifier and Regressor\n",
    "2. AdaBoost Classifier and Regressor\n",
    "3. Gradient Boosting Classifier and Regressor\n",
    "4. XGBoost Classifier and Regressor\n",
    "\n",
    "\n",
    "#### Hyperparameter Tuning\n",
    "GridSearchCV\n",
    "\n",
    "\n",
    "#### Evaluation\n",
    "Cohen's kappa score"
   ]
  },
  {
   "cell_type": "markdown",
   "id": "73c47c13",
   "metadata": {},
   "source": [
    "### Dataset Import and Filtering"
   ]
  },
  {
   "cell_type": "code",
   "execution_count": 1,
   "id": "afba0e19",
   "metadata": {},
   "outputs": [],
   "source": [
    "import nltk\n",
    "import pandas as pd\n",
    "import numpy as np\n",
    "import seaborn as sns\n",
    "import re\n",
    "from nltk.stem import WordNetLemmatizer\n",
    "from nltk.corpus import wordnet\n",
    "from nltk.sentiment import SentimentIntensityAnalyzer\n",
    "from sklearn.model_selection import train_test_split\n",
    "from sklearn.metrics import cohen_kappa_score"
   ]
  },
  {
   "cell_type": "code",
   "execution_count": 2,
   "id": "81397dad",
   "metadata": {},
   "outputs": [],
   "source": [
    "df = pd.read_csv('essay_dataset.csv')"
   ]
  },
  {
   "cell_type": "code",
   "execution_count": 3,
   "id": "bf5da89a",
   "metadata": {},
   "outputs": [
    {
     "name": "stdout",
     "output_type": "stream",
     "text": [
      "                                                   essay  domain1_score\n",
      "7081   In this memoir of Narciso Rodriguez, @PERSON3'...            2.0\n",
      "7082   Throughout the excerpt from Home the Blueprint...            2.0\n",
      "7083   The mood the author created in the memoir is l...            3.0\n",
      "7084   The mood created by the author is showing how ...            1.0\n",
      "7085   The mood created in the memoir is happiness an...            3.0\n",
      "...                                                  ...            ...\n",
      "10681  The one obstacle the builders had when trying ...            0.0\n",
      "10682  Some of the problems with the constructing of ...            2.0\n",
      "10683  The builders of the Empire State building face...            3.0\n",
      "10684  The obstacles the builders of the Empire State...            2.0\n",
      "10685  You want me to tell you what they had to go th...            2.0\n",
      "\n",
      "[3605 rows x 2 columns]\n"
     ]
    }
   ],
   "source": [
    "df = df[(df['essay_set'] >= 5) & (df['essay_set'] <= 6)]\n",
    "df = df[['essay', 'domain1_score']]\n",
    "\n",
    "print(df)"
   ]
  },
  {
   "cell_type": "code",
   "execution_count": 4,
   "id": "7f0ac648",
   "metadata": {},
   "outputs": [
    {
     "data": {
      "text/plain": [
       "<AxesSubplot:xlabel='domain1_score', ylabel='count'>"
      ]
     },
     "execution_count": 4,
     "metadata": {},
     "output_type": "execute_result"
    },
    {
     "data": {
      "image/png": "[encoded data removed]",
      "text/plain": [
       "<Figure size 640x480 with 1 Axes>"
      ]
     },
     "metadata": {},
     "output_type": "display_data"
    }
   ],
   "source": [
    "sns.countplot(x=df['domain1_score'])"
   ]
  },
  {
   "cell_type": "markdown",
   "id": "2a56b55c",
   "metadata": {},
   "source": [
    "### Feature Extraction"
   ]
  },
  {
   "cell_type": "code",
   "execution_count": 5,
   "id": "71360a38",
   "metadata": {},
   "outputs": [],
   "source": [
    "# number of sentences in an essay\n",
    "\n",
    "def sent_count(essay):\n",
    "    \n",
    "    sentences = nltk.sent_tokenize(essay)\n",
    "    \n",
    "    return len(sentences)"
   ]
  },
  {
   "cell_type": "code",
   "execution_count": 6,
   "id": "b0149b66",
   "metadata": {},
   "outputs": [],
   "source": [
    "# number of words in an essay\n",
    "\n",
    "def word_count(essay):\n",
    "    \n",
    "    clean_essay = re.sub(r'\\W', ' ', essay)\n",
    "    words = nltk.word_tokenize(clean_essay)\n",
    "    \n",
    "    return len(words)"
   ]
  },
  {
   "cell_type": "code",
   "execution_count": 7,
   "id": "081e8ba5",
   "metadata": {},
   "outputs": [],
   "source": [
    "# number of characters in an essay\n",
    "\n",
    "def char_count(essay):\n",
    "    \n",
    "    clean_essay = re.sub(r'\\s', '', str(essay).lower())\n",
    "    \n",
    "    return len(clean_essay)"
   ]
  },
  {
   "cell_type": "code",
   "execution_count": 8,
   "id": "bbeb45db",
   "metadata": {},
   "outputs": [],
   "source": [
    "# tokenize\n",
    "\n",
    "# sentence into words\n",
    "\n",
    "def sentence_to_wordlist(raw_sentence):\n",
    "    \n",
    "    clean_sentence = re.sub(\"[^a-zA-Z0-9]\",\" \", raw_sentence)\n",
    "    tokens = nltk.word_tokenize(clean_sentence)\n",
    "    \n",
    "    return tokens\n",
    "\n",
    "\n",
    "\n",
    "# essay into words\n",
    "\n",
    "def tokenize(essay):\n",
    "    stripped_essay = essay.strip()\n",
    "    \n",
    "    tokenizer = nltk.data.load('tokenizers/punkt/english.pickle')\n",
    "    raw_sentences = tokenizer.tokenize(stripped_essay)\n",
    "    \n",
    "    tokenized_sentences = []\n",
    "    for raw_sentence in raw_sentences:\n",
    "        if len(raw_sentence) > 0:\n",
    "            tokenized_sentences.append(sentence_to_wordlist(raw_sentence))\n",
    "    \n",
    "    return tokenized_sentences"
   ]
  },
  {
   "cell_type": "code",
   "execution_count": 9,
   "id": "a8f5624c",
   "metadata": {},
   "outputs": [],
   "source": [
    "# number of lemmas per essay\n",
    "\n",
    "def count_lemmas(essay):\n",
    "    \n",
    "    tokenized_sentences = tokenize(essay)      \n",
    "    \n",
    "    lemmas = []\n",
    "    wordnet_lemmatizer = WordNetLemmatizer()\n",
    "    \n",
    "    for sentence in tokenized_sentences:\n",
    "        tagged_tokens = nltk.pos_tag(sentence) \n",
    "        \n",
    "        for token_tuple in tagged_tokens:\n",
    "        \n",
    "            pos_tag = token_tuple[1]\n",
    "        \n",
    "            if pos_tag.startswith('N'): \n",
    "                pos = wordnet.NOUN\n",
    "                lemmas.append(wordnet_lemmatizer.lemmatize(token_tuple[0], pos))\n",
    "            elif pos_tag.startswith('J'):\n",
    "                pos = wordnet.ADJ\n",
    "                lemmas.append(wordnet_lemmatizer.lemmatize(token_tuple[0], pos))\n",
    "            elif pos_tag.startswith('V'):\n",
    "                pos = wordnet.VERB\n",
    "                lemmas.append(wordnet_lemmatizer.lemmatize(token_tuple[0], pos))\n",
    "            elif pos_tag.startswith('R'):\n",
    "                pos = wordnet.ADV\n",
    "                lemmas.append(wordnet_lemmatizer.lemmatize(token_tuple[0], pos))\n",
    "            else:\n",
    "                pos = wordnet.NOUN\n",
    "                lemmas.append(wordnet_lemmatizer.lemmatize(token_tuple[0], pos))\n",
    "    \n",
    "    lemma_count = len(set(lemmas))\n",
    "    \n",
    "    return lemma_count"
   ]
  },
  {
   "cell_type": "code",
   "execution_count": 10,
   "id": "cf1e6504",
   "metadata": {},
   "outputs": [],
   "source": [
    "# number of nouns and verbs in an essay\n",
    "\n",
    "def count_pos(essay):\n",
    "    \n",
    "    tokenized_sentences = tokenize(essay)\n",
    "    \n",
    "    noun_count = 0\n",
    "    verb_count = 0\n",
    "    \n",
    "    for sentence in tokenized_sentences:\n",
    "        tagged_tokens = nltk.pos_tag(sentence)\n",
    "        \n",
    "        for token_tuple in tagged_tokens:\n",
    "            pos_tag = token_tuple[1]\n",
    "        \n",
    "            if pos_tag.startswith('N'): \n",
    "                noun_count += 1\n",
    "            elif pos_tag.startswith('V'):\n",
    "                verb_count += 1\n",
    "            \n",
    "    return noun_count, verb_count"
   ]
  },
  {
   "cell_type": "code",
   "execution_count": 11,
   "id": "03a43ffa",
   "metadata": {},
   "outputs": [],
   "source": [
    "# sentiment neutral score\n",
    "\n",
    "sia = SentimentIntensityAnalyzer()\n",
    "\n",
    "def sentiment_analyzer(essay):\n",
    "    \n",
    "    scores = sia.polarity_scores(essay)\n",
    "    \n",
    "    return scores['neu']"
   ]
  },
  {
   "cell_type": "code",
   "execution_count": 12,
   "id": "af81c6f8",
   "metadata": {},
   "outputs": [],
   "source": [
    "# extracting essay features\n",
    "\n",
    "def extract_features(data):\n",
    "    \n",
    "    features = data.copy()\n",
    "    \n",
    "    features['sent_count'] = features['essay'].apply(sent_count)\n",
    "    \n",
    "    features['word_count'] = features['essay'].apply(word_count)\n",
    "    \n",
    "    features['char_count'] = features['essay'].apply(char_count)\n",
    "    \n",
    "    features['lemma_count'] = features['essay'].apply(count_lemmas)\n",
    "    \n",
    "    features['noun_count'], features['verb_count'] = zip(*features['essay'].map(count_pos))\n",
    "    \n",
    "    features['sentiment'] = features['essay'].apply(sentiment_analyzer)\n",
    "    \n",
    "    return features"
   ]
  },
  {
   "cell_type": "code",
   "execution_count": 13,
   "id": "3b689e11",
   "metadata": {},
   "outputs": [
    {
     "name": "stdout",
     "output_type": "stream",
     "text": [
      "                                                   essay  domain1_score  \\\n",
      "7081   In this memoir of Narciso Rodriguez, @PERSON3'...            2.0   \n",
      "7082   Throughout the excerpt from Home the Blueprint...            2.0   \n",
      "7083   The mood the author created in the memoir is l...            3.0   \n",
      "7084   The mood created by the author is showing how ...            1.0   \n",
      "7085   The mood created in the memoir is happiness an...            3.0   \n",
      "...                                                  ...            ...   \n",
      "10681  The one obstacle the builders had when trying ...            0.0   \n",
      "10682  Some of the problems with the constructing of ...            2.0   \n",
      "10683  The builders of the Empire State building face...            3.0   \n",
      "10684  The obstacles the builders of the Empire State...            2.0   \n",
      "10685  You want me to tell you what they had to go th...            2.0   \n",
      "\n",
      "       sent_count  word_count  char_count  lemma_count  noun_count  \\\n",
      "7081            8         133         616           81          34   \n",
      "7082            7         168         739          102          37   \n",
      "7083            6         112         544           75          36   \n",
      "7084            3          75         326           44          18   \n",
      "7085            8         127         559           68          29   \n",
      "...           ...         ...         ...          ...         ...   \n",
      "10681           8         154         708           82          42   \n",
      "10682           3          66         325           50          17   \n",
      "10683           5         105         503           68          31   \n",
      "10684           2          68         308           52          19   \n",
      "10685           9         158         681           81          31   \n",
      "\n",
      "       verb_count  sentiment  \n",
      "7081           29      0.847  \n",
      "7082           31      0.802  \n",
      "7083           19      0.795  \n",
      "7084           15      0.832  \n",
      "7085           22      0.740  \n",
      "...           ...        ...  \n",
      "10681          29      0.878  \n",
      "10682          14      0.786  \n",
      "10683          18      0.763  \n",
      "10684          13      0.870  \n",
      "10685          38      0.735  \n",
      "\n",
      "[3605 rows x 9 columns]\n"
     ]
    }
   ],
   "source": [
    "df_features = extract_features(df)\n",
    "\n",
    "print(df_features)"
   ]
  },
  {
   "cell_type": "code",
   "execution_count": 14,
   "id": "03318c53",
   "metadata": {
    "scrolled": false
   },
   "outputs": [
    {
     "data": {
      "text/plain": [
       "<AxesSubplot:xlabel='sentiment', ylabel='domain1_score'>"
      ]
     },
     "execution_count": 14,
     "metadata": {},
     "output_type": "execute_result"
    },
    {
     "data": {
      "image/png": "[encoded data removed]",
      "text/plain": [
       "<Figure size 640x480 with 1 Axes>"
      ]
     },
     "metadata": {},
     "output_type": "display_data"
    },
    {
     "data": {
      "image/png": "[encoded data removed]",
      "text/plain": [
       "<Figure size 640x480 with 1 Axes>"
      ]
     },
     "metadata": {},
     "output_type": "display_data"
    },
    {
     "data": {
      "image/png": "[encoded data removed]",
      "text/plain": [
       "<Figure size 640x480 with 1 Axes>"
      ]
     },
     "metadata": {},
     "output_type": "display_data"
    },
    {
     "data": {
      "image/png": "[encoded data removed]",
      "text/plain": [
       "<Figure size 640x480 with 1 Axes>"
      ]
     },
     "metadata": {},
     "output_type": "display_data"
    },
    {
     "data": {
      "image/png": "[encoded data removed]",
      "text/plain": [
       "<Figure size 640x480 with 1 Axes>"
      ]
     },
     "metadata": {},
     "output_type": "display_data"
    },
    {
     "data": {
      "image/png": "[encoded data removed]",
      "text/plain": [
       "<Figure size 640x480 with 1 Axes>"
      ]
     },
     "metadata": {},
     "output_type": "display_data"
    },
    {
     "data": {
      "image/png": "[encoded data removed]",
      "text/plain": [
       "<Figure size 640x480 with 1 Axes>"
      ]
     },
     "metadata": {},
     "output_type": "display_data"
    }
   ],
   "source": [
    "# Exploratory Data Analysis\n",
    "\n",
    "df_features.plot.scatter(x='sent_count', y='domain1_score', s=10)\n",
    "df_features.plot.scatter(x='word_count', y='domain1_score', s=10)\n",
    "df_features.plot.scatter(x='char_count', y='domain1_score', s=10)\n",
    "df_features.plot.scatter(x='lemma_count', y='domain1_score', s=10)\n",
    "df_features.plot.scatter(x='noun_count', y='domain1_score', s=10)\n",
    "df_features.plot.scatter(x='verb_count', y='domain1_score', s=10)\n",
    "df_features.plot.scatter(x='sentiment', y='domain1_score', s=10)"
   ]
  },
  {
   "cell_type": "markdown",
   "id": "4b8de9ff",
   "metadata": {},
   "source": [
    "### Modeling"
   ]
  },
  {
   "cell_type": "code",
   "execution_count": 15,
   "id": "7f3a33b5",
   "metadata": {},
   "outputs": [],
   "source": [
    "feature_list = ['sent_count', 'word_count', 'char_count', 'lemma_count', 'noun_count', 'verb_count', 'sentiment']\n",
    "\n",
    "X = df_features[feature_list]\n",
    "y = df_features['domain1_score']"
   ]
  },
  {
   "cell_type": "code",
   "execution_count": 16,
   "id": "93626017",
   "metadata": {},
   "outputs": [],
   "source": [
    "X_train, X_test, y_train, y_test = train_test_split(X, y, test_size=0.30)"
   ]
  },
  {
   "cell_type": "code",
   "execution_count": 17,
   "id": "b08d9f4a",
   "metadata": {},
   "outputs": [],
   "source": [
    "from sklearn.model_selection import GridSearchCV"
   ]
  },
  {
   "cell_type": "markdown",
   "id": "ca5a9806",
   "metadata": {},
   "source": [
    "#### Random Forest"
   ]
  },
  {
   "cell_type": "code",
   "execution_count": 18,
   "id": "84e999b9",
   "metadata": {},
   "outputs": [],
   "source": [
    "from sklearn.ensemble import RandomForestClassifier, RandomForestRegressor"
   ]
  },
  {
   "cell_type": "code",
   "execution_count": 19,
   "id": "3cfcdbec",
   "metadata": {},
   "outputs": [
    {
     "name": "stdout",
     "output_type": "stream",
     "text": [
      "Random Forest Classifier Cohen's kappa score: 0.43\n",
      "Random Forest Regressor Cohen's kappa score: 0.44\n"
     ]
    }
   ],
   "source": [
    "# Random Forest Default Classifier and Regressor\n",
    "\n",
    "rfc_model = RandomForestClassifier()\n",
    "rfc_model.fit(X_train, y_train)\n",
    "rfc_pred = rfc_model.predict(X_test)\n",
    "print('Random Forest Classifier Cohen\\'s kappa score: %.2f' % cohen_kappa_score(y_test, rfc_pred))\n",
    "\n",
    "rfr_model = RandomForestRegressor()\n",
    "rfr_model.fit(X_train, y_train)\n",
    "rfr_pred = rfr_model.predict(X_test)\n",
    "print('Random Forest Regressor Cohen\\'s kappa score: %.2f' % cohen_kappa_score(y_test, np.rint(rfr_pred)))"
   ]
  },
  {
   "cell_type": "code",
   "execution_count": 20,
   "id": "ed4d4c5b",
   "metadata": {},
   "outputs": [
    {
     "name": "stdout",
     "output_type": "stream",
     "text": [
      "Cohen's kappa score: 0.47\n",
      "RandomForestClassifier(max_depth=2, max_features='log2', n_estimators=1000)\n",
      "0.6309948474038843\n"
     ]
    }
   ],
   "source": [
    "# Random Forest Classifier with GridSearchCV Hyperparameter Tuning\n",
    "\n",
    "rfc_params = {'n_estimators':[100, 500, 1000], \n",
    "              'criterion':['gini','entropy','log_loss'], \n",
    "              'max_depth': [2, 10], \n",
    "              'max_features': ['sqrt', 'log2', None]}\n",
    "\n",
    "rfc_grid = GridSearchCV(rfc_model, rfc_params, cv=3)\n",
    "rfc_grid.fit(X_train, y_train)\n",
    "rfc_grid_pred = rfc_grid.predict(X_test)\n",
    "\n",
    "print('Cohen\\'s kappa score: %.2f' % cohen_kappa_score(y_test, rfc_grid_pred))\n",
    "print(rfc_grid.best_estimator_)\n",
    "print(rfc_grid.best_score_)"
   ]
  },
  {
   "cell_type": "code",
   "execution_count": 21,
   "id": "d8094686",
   "metadata": {},
   "outputs": [
    {
     "name": "stdout",
     "output_type": "stream",
     "text": [
      "Cohen's kappa score: 0.45\n",
      "RandomForestRegressor(criterion='poisson', max_depth=10, max_features='sqrt',\n",
      "                      n_estimators=500)\n",
      "0.6266980943729517\n"
     ]
    }
   ],
   "source": [
    "# Random Forest Regressor with GridSearchCV Hyperparameter Tuning\n",
    "\n",
    "rfr_params = {'n_estimators':[100, 500, 1000],\n",
    "              'criterion': ['squared_error', 'absolute_error', 'poisson'],\n",
    "              'max_depth': [2, 10], \n",
    "              'max_features': ['sqrt', 'log2', None]}\n",
    "\n",
    "rfr_grid = GridSearchCV(rfr_model, rfr_params, cv=3)\n",
    "rfr_grid.fit(X_train, y_train)\n",
    "rfr_grid_pred = rfr_grid.predict(X_test)\n",
    "\n",
    "print('Cohen\\'s kappa score: %.2f' % cohen_kappa_score(y_test, np.rint(rfr_grid_pred)))\n",
    "print(rfr_grid.best_estimator_)\n",
    "print(rfr_grid.best_score_)"
   ]
  },
  {
   "cell_type": "markdown",
   "id": "8a15171d",
   "metadata": {},
   "source": [
    "#### AdaBoost"
   ]
  },
  {
   "cell_type": "code",
   "execution_count": 22,
   "id": "2737bd94",
   "metadata": {},
   "outputs": [],
   "source": [
    "from sklearn.ensemble import AdaBoostClassifier, AdaBoostRegressor"
   ]
  },
  {
   "cell_type": "code",
   "execution_count": 23,
   "id": "db9487bb",
   "metadata": {},
   "outputs": [
    {
     "name": "stdout",
     "output_type": "stream",
     "text": [
      "AdaBoost Classifier Cohen's kappa score: 0.16\n",
      "AdaBoost Regressor Cohen's kappa score: 0.31\n"
     ]
    }
   ],
   "source": [
    "# AdaBoost Default Classifier and Regressor\n",
    "\n",
    "abc_model = AdaBoostClassifier()\n",
    "abc_model.fit(X_train, y_train)\n",
    "abc_pred = abc_model.predict(X_test)\n",
    "print('AdaBoost Classifier Cohen\\'s kappa score: %.2f' % cohen_kappa_score(y_test, abc_pred))\n",
    "\n",
    "abr_model = AdaBoostRegressor()\n",
    "abr_model.fit(X_train, y_train)\n",
    "abr_pred = abr_model.predict(X_test)\n",
    "print('AdaBoost Regressor Cohen\\'s kappa score: %.2f' % cohen_kappa_score(y_test, np.rint(abr_pred)))"
   ]
  },
  {
   "cell_type": "code",
   "execution_count": 24,
   "id": "5d1c50f5",
   "metadata": {},
   "outputs": [
    {
     "name": "stdout",
     "output_type": "stream",
     "text": [
      "Cohen's kappa score: 0.29\n",
      "AdaBoostClassifier(learning_rate=0.01, n_estimators=500)\n",
      "0.562029330162505\n"
     ]
    }
   ],
   "source": [
    "# AdaBoost Classifier with GridSearchCV Hyperparameter Tuning\n",
    "\n",
    "abc_params = {'n_estimators':[100, 500, 1000],\n",
    "             'learning_rate':[0.01, 0.1, 1.0]}\n",
    "\n",
    "abc_grid = GridSearchCV(abc_model, abc_params, cv=3)\n",
    "abc_grid.fit(X_train, y_train)\n",
    "abc_grid_pred = abc_grid.predict(X_test)\n",
    "\n",
    "print('Cohen\\'s kappa score: %.2f' % cohen_kappa_score(y_test, abc_grid_pred))\n",
    "print(abc_grid.best_estimator_)\n",
    "print(abc_grid.best_score_)"
   ]
  },
  {
   "cell_type": "code",
   "execution_count": 25,
   "id": "d9a60e12",
   "metadata": {},
   "outputs": [
    {
     "name": "stdout",
     "output_type": "stream",
     "text": [
      "Cohen's kappa score: 0.47\n",
      "AdaBoostRegressor(learning_rate=0.01, n_estimators=500)\n",
      "0.609638305151098\n"
     ]
    }
   ],
   "source": [
    "# AdaBoost Regressor with GridSearchCV Hyperparameter Tuning\n",
    "\n",
    "abr_params = {'n_estimators':[100, 500, 1000],\n",
    "             'learning_rate':[0.01, 0.1, 1.0]}\n",
    "\n",
    "abr_grid = GridSearchCV(abr_model, abr_params, cv=3)\n",
    "abr_grid.fit(X_train, y_train)\n",
    "abr_grid_pred = abr_grid.predict(X_test)\n",
    "\n",
    "print('Cohen\\'s kappa score: %.2f' % cohen_kappa_score(y_test, np.rint(abr_grid_pred)))\n",
    "print(abr_grid.best_estimator_)\n",
    "print(abr_grid.best_score_)"
   ]
  },
  {
   "cell_type": "markdown",
   "id": "f182f982",
   "metadata": {},
   "source": [
    "#### Gradient Boosting"
   ]
  },
  {
   "cell_type": "code",
   "execution_count": 26,
   "id": "c037b423",
   "metadata": {},
   "outputs": [],
   "source": [
    "from sklearn.ensemble import GradientBoostingClassifier, GradientBoostingRegressor"
   ]
  },
  {
   "cell_type": "code",
   "execution_count": 27,
   "id": "591f9c66",
   "metadata": {},
   "outputs": [
    {
     "name": "stdout",
     "output_type": "stream",
     "text": [
      "Gradient Boosting Classifier Cohen's kappa score: 0.44\n",
      "Gradient Boosting Regressor Cohen's kappa score: 0.46\n"
     ]
    }
   ],
   "source": [
    "# Gradient Boosting Default Classifier and Regressor\n",
    "\n",
    "gbc_model = GradientBoostingClassifier()\n",
    "gbc_model.fit(X_train, y_train)\n",
    "gbc_pred = gbc_model.predict(X_test)\n",
    "print('Gradient Boosting Classifier Cohen\\'s kappa score: %.2f' % cohen_kappa_score(y_test, gbc_pred))\n",
    "\n",
    "gbr_model = GradientBoostingRegressor()\n",
    "gbr_model.fit(X_train, y_train)\n",
    "gbr_pred = gbr_model.predict(X_test)\n",
    "print('Gradient Boosting Regressor Cohen\\'s kappa score: %.2f' % cohen_kappa_score(y_test, np.rint(gbr_pred)))"
   ]
  },
  {
   "cell_type": "code",
   "execution_count": 28,
   "id": "d442c140",
   "metadata": {},
   "outputs": [
    {
     "name": "stdout",
     "output_type": "stream",
     "text": [
      "Cohen's kappa score: 0.43\n",
      "GradientBoostingClassifier(learning_rate=0.01, max_depth=4, subsample=0.5)\n",
      "0.6345620293301625\n"
     ]
    }
   ],
   "source": [
    "# Gradient Boosting Classifier with GridSearchCV Hyperparameter Tuning\n",
    "\n",
    "gbc_params = {'learning_rate': [0.01,0.02,0.03],\n",
    "              'subsample': [0.9, 0.5, 0.2],\n",
    "              'n_estimators': [100,500,1000],\n",
    "              'max_depth': [4,6,8]}\n",
    "\n",
    "gbc_grid = GridSearchCV(gbc_model, gbc_params, cv=3)\n",
    "gbc_grid.fit(X_train, y_train)\n",
    "gbc_grid_pred = gbc_grid.predict(X_test)\n",
    "\n",
    "print('Cohen\\'s kappa score: %.2f' % cohen_kappa_score(y_test, gbc_grid_pred))\n",
    "print(gbc_grid.best_estimator_)\n",
    "print(gbc_grid.best_score_)"
   ]
  },
  {
   "cell_type": "code",
   "execution_count": 29,
   "id": "939792cd",
   "metadata": {},
   "outputs": [
    {
     "name": "stdout",
     "output_type": "stream",
     "text": [
      "Cohen's kappa score: 0.45\n",
      "GradientBoostingRegressor(learning_rate=0.01, max_depth=4, n_estimators=500,\n",
      "                          subsample=0.2)\n",
      "0.6333596407380467\n"
     ]
    }
   ],
   "source": [
    "# Gradient Boosting Regressor with GridSearchCV Hyperparameter Tuning\n",
    "\n",
    "gbr_params = {'learning_rate': [0.01,0.02,0.03],\n",
    "              'subsample': [0.9, 0.5, 0.2],\n",
    "              'n_estimators': [100,500,1000],\n",
    "              'max_depth': [4,6,8]}\n",
    "\n",
    "gbr_grid = GridSearchCV(gbr_model, gbr_params, cv=3)\n",
    "gbr_grid.fit(X_train, y_train)\n",
    "gbr_grid_pred = gbr_grid.predict(X_test)\n",
    "\n",
    "print('Cohen\\'s kappa score: %.2f' % cohen_kappa_score(y_test, np.rint(gbr_grid_pred)))\n",
    "print(gbr_grid.best_estimator_)\n",
    "print(gbr_grid.best_score_)"
   ]
  },
  {
   "cell_type": "markdown",
   "id": "89e0a9cb",
   "metadata": {},
   "source": [
    "#### XGBoost"
   ]
  },
  {
   "cell_type": "code",
   "execution_count": 30,
   "id": "b914645c",
   "metadata": {},
   "outputs": [],
   "source": [
    "from xgboost import XGBClassifier, XGBRegressor"
   ]
  },
  {
   "cell_type": "code",
   "execution_count": 31,
   "id": "7f7021f8",
   "metadata": {},
   "outputs": [
    {
     "name": "stdout",
     "output_type": "stream",
     "text": [
      "XGBoost Classifier Cohen's kappa score: 0.41\n",
      "XGBoost Regressor Cohen's kappa score: 0.42\n"
     ]
    }
   ],
   "source": [
    "# XGBoost Default Classifier and Regressor\n",
    "\n",
    "xgbc_model = XGBClassifier() # n_estimators=30,random_state=7\n",
    "xgbc_model.fit(X_train, y_train)\n",
    "xgbc_pred = xgbc_model.predict(X_test)\n",
    "print('XGBoost Classifier Cohen\\'s kappa score: %.2f' % cohen_kappa_score(y_test, xgbc_pred))\n",
    "\n",
    "xgbr_model = XGBRegressor()\n",
    "xgbr_model.fit(X_train, y_train)\n",
    "xgbr_pred = xgbr_model.predict(X_test)\n",
    "print('XGBoost Regressor Cohen\\'s kappa score: %.2f' % cohen_kappa_score(y_test, np.rint(xgbr_pred)))"
   ]
  },
  {
   "cell_type": "code",
   "execution_count": 32,
   "id": "5261dccf",
   "metadata": {},
   "outputs": [
    {
     "name": "stdout",
     "output_type": "stream",
     "text": [
      "Cohen's kappa score: 0.46\n",
      "XGBClassifier(base_score=0.5, booster='gbtree', callbacks=None,\n",
      "              colsample_bylevel=1, colsample_bynode=1, colsample_bytree=1,\n",
      "              early_stopping_rounds=None, enable_categorical=False,\n",
      "              eval_metric=None, feature_types=None, gamma=0, gpu_id=-1,\n",
      "              grow_policy='depthwise', importance_type=None,\n",
      "              interaction_constraints='', learning_rate=0.01, max_bin=256,\n",
      "              max_cat_threshold=64, max_cat_to_onehot=4, max_delta_step=0,\n",
      "              max_depth=2, max_leaves=0, min_child_weight=1, missing=nan,\n",
      "              monotone_constraints='()', n_estimators=1000, n_jobs=0,\n",
      "              num_parallel_tree=1, objective='multi:softprob', predictor='auto', ...)\n",
      "0.6377328577090765\n"
     ]
    }
   ],
   "source": [
    "# XGBoost Classifier with GridSearchCV Hyperparameter Tuning\n",
    "\n",
    "xgbc_params = {'max_depth': [2, 10],\n",
    "               'n_estimators': [100, 500, 1000],\n",
    "               'learning_rate': [0.1, 0.01, 0.05]}\n",
    "\n",
    "xgbc_grid = GridSearchCV(xgbc_model, xgbc_params, cv=3)\n",
    "xgbc_grid.fit(X_train, y_train)\n",
    "xgbc_grid_pred = xgbc_grid.predict(X_test)\n",
    "\n",
    "print('Cohen\\'s kappa score: %.2f' % cohen_kappa_score(y_test, xgbc_grid_pred))\n",
    "print(xgbc_grid.best_estimator_)\n",
    "print(xgbc_grid.best_score_)"
   ]
  },
  {
   "cell_type": "code",
   "execution_count": 33,
   "id": "f74317af",
   "metadata": {},
   "outputs": [
    {
     "name": "stdout",
     "output_type": "stream",
     "text": [
      "Cohen's kappa score: 0.45\n",
      "XGBRegressor(base_score=0.5, booster='gbtree', callbacks=None,\n",
      "             colsample_bylevel=1, colsample_bynode=1, colsample_bytree=1,\n",
      "             early_stopping_rounds=None, enable_categorical=False,\n",
      "             eval_metric=None, feature_types=None, gamma=0, gpu_id=-1,\n",
      "             grow_policy='depthwise', importance_type=None,\n",
      "             interaction_constraints='', learning_rate=0.05, max_bin=256,\n",
      "             max_cat_threshold=64, max_cat_to_onehot=4, max_delta_step=0,\n",
      "             max_depth=2, max_leaves=0, min_child_weight=1, missing=nan,\n",
      "             monotone_constraints='()', n_estimators=100, n_jobs=0,\n",
      "             num_parallel_tree=1, predictor='auto', random_state=0, ...)\n",
      "0.6288684725476393\n"
     ]
    }
   ],
   "source": [
    "# XGBoost Regressor with GridSearchCV Hyperparameter Tuning\n",
    "\n",
    "xgbr_params = {'max_depth': [2, 10],\n",
    "               'n_estimators': [100, 500, 1000],\n",
    "               'learning_rate': [0.1, 0.01, 0.05]}\n",
    "\n",
    "xgbr_grid = GridSearchCV(xgbr_model, xgbr_params, cv=3)\n",
    "xgbr_grid.fit(X_train, y_train)\n",
    "xgbr_grid_pred = xgbr_grid.predict(X_test)\n",
    "\n",
    "print('Cohen\\'s kappa score: %.2f' % cohen_kappa_score(y_test, np.rint(xgbr_grid_pred)))\n",
    "print(xgbr_grid.best_estimator_)\n",
    "print(xgbr_grid.best_score_)"
   ]
  },
  {
   "cell_type": "markdown",
   "id": "d3773567",
   "metadata": {},
   "source": [
    "### Results"
   ]
  },
  {
   "cell_type": "markdown",
   "id": "11e88617",
   "metadata": {},
   "source": [
    "|                   | Default Classifier | Default Regressor | Classifier with Tuning | Regressor with Tuning |\n",
    "|-------------------|--------------------|-------------------|------------------------|-----------------------|\n",
    "| Random Forest     | 0.43               | 0.44              | **0.47**               | 0.45                  |\n",
    "| AdaBoost          | 0.16               | 0.31              | 0.29                   | **0.47**              |\n",
    "| Gradient Boosting | 0.44               | **0.46**          | 0.43                   | 0.45                  |\n",
    "| XGBoost           | 0.41               | 0.42              | **0.46**               | 0.45                  |"
   ]
  },
  {
   "cell_type": "markdown",
   "id": "05b366c4",
   "metadata": {},
   "source": [
    "#### Observations\n",
    "1. The models that performed best, with 0.47 Cohen's kappa score, are the Random Forest Classifier with hyperparameter tuning and AdaBoost Regressor with hyperparameter tuning. Closely next to it are the Gradient Boosting Regressor with default parameters and XGBoost Classifier with hyperparameter tuning.\n",
    "2. The models that underwent hyperparameter tuning generally performed better than the defaults. However, an exception to this is the Gradient Boosting Classifier and Regressor, although, it was not a huge difference. This possibly happened because of the poor choice of parameters indicated.\n",
    "3. The regression models generally performed better than their classifier alternatives. Exceptions to this are the Random Forest and XGBoost Classifier that underwent hyperparameter tuning, which are 2 of the best performing models.\n",
    "4. All models have a Cohen's kappa score of less than 0.50, which means that they all have a not very strong agreement with the human expert graders. This is possibly because of the choice of features. The agreement could be improved with the use of better and more correlated features."
   ]
  }
 ],
 "metadata": {
  "kernelspec": {
   "display_name": "Python 3 (ipykernel)",
   "language": "python",
   "name": "python3"
  },
  "language_info": {
   "codemirror_mode": {
    "name": "ipython",
    "version": 3
   },
   "file_extension": ".py",
   "mimetype": "text/x-python",
   "name": "python",
   "nbconvert_exporter": "python",
   "pygments_lexer": "ipython3",
   "version": "3.10.5"
  }
 },
 "nbformat": 4,
 "nbformat_minor": 5
}
